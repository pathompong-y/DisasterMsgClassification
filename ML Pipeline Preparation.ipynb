{
 "cells": [
  {
   "cell_type": "markdown",
   "metadata": {},
   "source": [
    "# ML Pipeline Preparation\n",
    "Follow the instructions below to help you create your ML pipeline.\n",
    "### 1. Import libraries and load data from database.\n",
    "- Import Python libraries\n",
    "- Load dataset from database with [`read_sql_table`](https://pandas.pydata.org/pandas-docs/stable/generated/pandas.read_sql_table.html)\n",
    "- Define feature and target variables X and Y"
   ]
  },
  {
   "cell_type": "code",
   "execution_count": 2,
   "metadata": {},
   "outputs": [
    {
     "name": "stdout",
     "output_type": "stream",
     "text": [
      "[nltk_data] Downloading package punkt to /root/nltk_data...\n",
      "[nltk_data]   Unzipping tokenizers/punkt.zip.\n",
      "[nltk_data] Downloading package wordnet to /root/nltk_data...\n",
      "[nltk_data]   Unzipping corpora/wordnet.zip.\n"
     ]
    },
    {
     "data": {
      "text/plain": [
       "True"
      ]
     },
     "execution_count": 2,
     "metadata": {},
     "output_type": "execute_result"
    }
   ],
   "source": [
    "  import nltk\n",
    "  nltk.download(['punkt', 'wordnet'])"
   ]
  },
  {
   "cell_type": "code",
   "execution_count": 24,
   "metadata": {},
   "outputs": [],
   "source": [
    "# import libraries\n",
    "import re\n",
    "import pandas as pd\n",
    "import sqlalchemy as db\n",
    "from nltk.tokenize import word_tokenize\n",
    "from nltk.stem import WordNetLemmatizer\n",
    "\n",
    "from sklearn.model_selection import train_test_split\n",
    "from sklearn.metrics import confusion_matrix\n",
    "from sklearn.model_selection import GridSearchCV\n",
    "from sklearn.feature_extraction.text import CountVectorizer, TfidfTransformer\n",
    "from sklearn.multioutput import MultiOutputClassifier\n",
    "from sklearn.ensemble import RandomForestClassifier\n",
    "from sklearn.pipeline import Pipeline\n",
    "from sklearn.metrics import classification_report"
   ]
  },
  {
   "cell_type": "code",
   "execution_count": 44,
   "metadata": {},
   "outputs": [],
   "source": [
    "# load data from database\n",
    "engine = db.create_engine('sqlite:///InsertDatabaseName.db')\n",
    "df = pd.read_sql_table('CategorisedMessages', engine)\n",
    "X = df['message']\n",
    "Y = df[['related', 'request', 'offer',\n",
    "       'aid_related', 'medical_help', 'medical_products', 'search_and_rescue',\n",
    "       'security', 'military', 'child_alone', 'water', 'food', 'shelter',\n",
    "       'clothing', 'money', 'missing_people', 'refugees', 'death', 'other_aid',\n",
    "       'infrastructure_related', 'transport', 'buildings', 'electricity',\n",
    "       'tools', 'hospitals', 'shops', 'aid_centers', 'other_infrastructure',\n",
    "       'weather_related', 'floods', 'storm', 'fire', 'earthquake', 'cold',\n",
    "       'other_weather', 'direct_report']]"
   ]
  },
  {
   "cell_type": "code",
   "execution_count": 45,
   "metadata": {},
   "outputs": [
    {
     "data": {
      "text/plain": [
       "['weather',\n",
       " 'update',\n",
       " 'a',\n",
       " 'cold',\n",
       " 'front',\n",
       " 'from',\n",
       " 'cuba',\n",
       " 'that',\n",
       " 'could',\n",
       " 'pas',\n",
       " 'over',\n",
       " 'haiti']"
      ]
     },
     "execution_count": 45,
     "metadata": {},
     "output_type": "execute_result"
    }
   ],
   "source": [
    "message = df['message'].iloc[0]\n",
    "message = re.sub('[^A-Za-z0-9]',' ',message)\n",
    "lemmatizer = WordNetLemmatizer()\n",
    "tokens = word_tokenize(message)\n",
    "clean_tokens = []\n",
    "\n",
    "for tok in tokens:\n",
    "    clean_tok = lemmatizer.lemmatize(tok).lower().strip()\n",
    "    clean_tokens.append(clean_tok)\n",
    "    \n",
    "clean_tokens\n",
    "    "
   ]
  },
  {
   "cell_type": "markdown",
   "metadata": {},
   "source": [
    "### 2. Write a tokenization function to process your text data"
   ]
  },
  {
   "cell_type": "code",
   "execution_count": 6,
   "metadata": {},
   "outputs": [],
   "source": [
    "def tokenize(text):\n",
    "    # Replace none-character with space\n",
    "    text = re.sub('[^A-Za-z0-9]',' ',text)\n",
    "    \n",
    "    # Tokenize the input\n",
    "    tokens = word_tokenize(text)\n",
    "    \n",
    "    # Initialize lemmatizer for standardize form of words\n",
    "    lemmatizer = WordNetLemmatizer()\n",
    "    \n",
    "    # We will iterate each token in the list, lemmatize and return result\n",
    "    clean_tokens = []\n",
    "    for tok in tokens:\n",
    "        clean_tok = lemmatizer.lemmatize(tok).lower().strip()\n",
    "        clean_tokens.append(clean_tok)\n",
    "\n",
    "    return clean_tokens"
   ]
  },
  {
   "cell_type": "markdown",
   "metadata": {},
   "source": [
    "### 3. Build a machine learning pipeline\n",
    "This machine pipeline should take in the `message` column as input and output classification results on the other 36 categories in the dataset. You may find the [MultiOutputClassifier](http://scikit-learn.org/stable/modules/generated/sklearn.multioutput.MultiOutputClassifier.html) helpful for predicting multiple target variables."
   ]
  },
  {
   "cell_type": "code",
   "execution_count": 41,
   "metadata": {},
   "outputs": [],
   "source": [
    "pipeline = Pipeline([\n",
    "    ('vect', CountVectorizer(tokenizer=tokenize)),\n",
    "    ('tfidf', TfidfTransformer()),\n",
    "    ('clf', MultiOutputClassifier(RandomForestClassifier()))\n",
    "])"
   ]
  },
  {
   "cell_type": "markdown",
   "metadata": {},
   "source": [
    "### 4. Train pipeline\n",
    "- Split data into train and test sets\n",
    "- Train pipeline"
   ]
  },
  {
   "cell_type": "code",
   "execution_count": 43,
   "metadata": {},
   "outputs": [
    {
     "data": {
      "text/plain": [
       "Pipeline(memory=None,\n",
       "     steps=[('vect', CountVectorizer(analyzer='word', binary=False, decode_error='strict',\n",
       "        dtype=<class 'numpy.int64'>, encoding='utf-8', input='content',\n",
       "        lowercase=True, max_df=1.0, max_features=None, min_df=1,\n",
       "        ngram_range=(1, 1), preprocessor=None, stop_words=None,\n",
       "        strip...oob_score=False, random_state=None, verbose=0,\n",
       "            warm_start=False),\n",
       "           n_jobs=1))])"
      ]
     },
     "execution_count": 43,
     "metadata": {},
     "output_type": "execute_result"
    }
   ],
   "source": [
    "X_train, X_test, y_train, y_test = train_test_split(X, Y)\n",
    "pipeline.fit(X_train, y_train)"
   ]
  },
  {
   "cell_type": "markdown",
   "metadata": {},
   "source": [
    "### 5. Test your model\n",
    "Report the f1 score, precision and recall for each output category of the dataset. You can do this by iterating through the columns and calling sklearn's `classification_report` on each."
   ]
  },
  {
   "cell_type": "code",
   "execution_count": 46,
   "metadata": {},
   "outputs": [],
   "source": [
    "y_pred = pipeline.predict(X_test)"
   ]
  },
  {
   "cell_type": "code",
   "execution_count": 47,
   "metadata": {},
   "outputs": [
    {
     "data": {
      "text/plain": [
       "Index(['related', 'request', 'offer', 'aid_related', 'medical_help',\n",
       "       'medical_products', 'search_and_rescue', 'security', 'military',\n",
       "       'child_alone', 'water', 'food', 'shelter', 'clothing', 'money',\n",
       "       'missing_people', 'refugees', 'death', 'other_aid',\n",
       "       'infrastructure_related', 'transport', 'buildings', 'electricity',\n",
       "       'tools', 'hospitals', 'shops', 'aid_centers', 'other_infrastructure',\n",
       "       'weather_related', 'floods', 'storm', 'fire', 'earthquake', 'cold',\n",
       "       'other_weather', 'direct_report'],\n",
       "      dtype='object')"
      ]
     },
     "execution_count": 47,
     "metadata": {},
     "output_type": "execute_result"
    }
   ],
   "source": [
    "y_test.columns"
   ]
  },
  {
   "cell_type": "code",
   "execution_count": 48,
   "metadata": {
    "scrolled": false
   },
   "outputs": [
    {
     "name": "stdout",
     "output_type": "stream",
     "text": [
      "                        precision    recall  f1-score   support\n",
      "\n",
      "               related       0.62      0.35      0.45      1528\n",
      "               request       0.82      0.93      0.87      4978\n",
      "                 offer       0.62      0.38      0.47        48\n",
      "\n",
      "           avg / total       0.77      0.79      0.77      6554\n",
      "\n",
      "                        precision    recall  f1-score   support\n",
      "\n",
      "               related       0.89      0.98      0.93      5411\n",
      "               request       0.84      0.40      0.55      1143\n",
      "\n",
      "           avg / total       0.88      0.88      0.87      6554\n",
      "\n",
      "                        precision    recall  f1-score   support\n",
      "\n",
      "               related       0.99      1.00      1.00      6519\n",
      "               request       0.00      0.00      0.00        35\n",
      "\n",
      "           avg / total       0.99      0.99      0.99      6554\n",
      "\n",
      "                        precision    recall  f1-score   support\n",
      "\n",
      "               related       0.72      0.87      0.78      3787\n",
      "               request       0.74      0.53      0.62      2767\n",
      "\n",
      "           avg / total       0.73      0.73      0.72      6554\n",
      "\n",
      "                        precision    recall  f1-score   support\n",
      "\n",
      "               related       0.92      1.00      0.96      6032\n",
      "               request       0.55      0.06      0.11       522\n",
      "\n",
      "           avg / total       0.89      0.92      0.89      6554\n",
      "\n",
      "                        precision    recall  f1-score   support\n",
      "\n",
      "               related       0.96      1.00      0.98      6241\n",
      "               request       0.74      0.06      0.12       313\n",
      "\n",
      "           avg / total       0.94      0.95      0.94      6554\n",
      "\n",
      "                        precision    recall  f1-score   support\n",
      "\n",
      "               related       0.97      1.00      0.98      6358\n",
      "               request       0.50      0.02      0.04       196\n",
      "\n",
      "           avg / total       0.96      0.97      0.96      6554\n",
      "\n",
      "                        precision    recall  f1-score   support\n",
      "\n",
      "               related       0.98      1.00      0.99      6442\n",
      "               request       0.00      0.00      0.00       112\n",
      "\n",
      "           avg / total       0.97      0.98      0.97      6554\n",
      "\n",
      "                        precision    recall  f1-score   support\n",
      "\n",
      "               related       0.97      1.00      0.98      6332\n",
      "               request       0.62      0.05      0.08       222\n",
      "\n",
      "           avg / total       0.96      0.97      0.95      6554\n",
      "\n",
      "                        precision    recall  f1-score   support\n",
      "\n",
      "               related       1.00      1.00      1.00      6554\n",
      "\n",
      "           avg / total       1.00      1.00      1.00      6554\n",
      "\n",
      "                        precision    recall  f1-score   support\n",
      "\n",
      "               related       0.95      1.00      0.97      6135\n",
      "               request       0.85      0.29      0.43       419\n",
      "\n",
      "           avg / total       0.95      0.95      0.94      6554\n",
      "\n",
      "                        precision    recall  f1-score   support\n",
      "\n",
      "               related       0.93      0.99      0.96      5830\n",
      "               request       0.85      0.42      0.56       724\n",
      "\n",
      "           avg / total       0.92      0.93      0.92      6554\n",
      "\n",
      "                        precision    recall  f1-score   support\n",
      "\n",
      "               related       0.93      1.00      0.96      5984\n",
      "               request       0.84      0.22      0.35       570\n",
      "\n",
      "           avg / total       0.92      0.93      0.91      6554\n",
      "\n",
      "                        precision    recall  f1-score   support\n",
      "\n",
      "               related       0.99      1.00      0.99      6449\n",
      "               request       0.78      0.07      0.12       105\n",
      "\n",
      "           avg / total       0.98      0.98      0.98      6554\n",
      "\n",
      "                        precision    recall  f1-score   support\n",
      "\n",
      "               related       0.98      1.00      0.99      6395\n",
      "               request       0.50      0.01      0.02       159\n",
      "\n",
      "           avg / total       0.96      0.98      0.96      6554\n",
      "\n",
      "                        precision    recall  f1-score   support\n",
      "\n",
      "               related       0.99      1.00      0.99      6478\n",
      "               request       1.00      0.01      0.03        76\n",
      "\n",
      "           avg / total       0.99      0.99      0.98      6554\n",
      "\n",
      "                        precision    recall  f1-score   support\n",
      "\n",
      "               related       0.97      1.00      0.98      6336\n",
      "               request       0.56      0.05      0.08       218\n",
      "\n",
      "           avg / total       0.95      0.97      0.95      6554\n",
      "\n",
      "                        precision    recall  f1-score   support\n",
      "\n",
      "               related       0.96      1.00      0.98      6255\n",
      "               request       0.79      0.20      0.32       299\n",
      "\n",
      "           avg / total       0.96      0.96      0.95      6554\n",
      "\n",
      "                        precision    recall  f1-score   support\n",
      "\n",
      "               related       0.87      0.99      0.93      5687\n",
      "               request       0.57      0.04      0.08       867\n",
      "\n",
      "           avg / total       0.83      0.87      0.82      6554\n",
      "\n",
      "                        precision    recall  f1-score   support\n",
      "\n",
      "               related       0.94      1.00      0.97      6151\n",
      "               request       0.33      0.00      0.01       403\n",
      "\n",
      "           avg / total       0.90      0.94      0.91      6554\n",
      "\n",
      "                        precision    recall  f1-score   support\n",
      "\n",
      "               related       0.95      1.00      0.98      6237\n",
      "               request       0.54      0.04      0.08       317\n",
      "\n",
      "           avg / total       0.93      0.95      0.93      6554\n",
      "\n",
      "                        precision    recall  f1-score   support\n",
      "\n",
      "               related       0.96      1.00      0.98      6243\n",
      "               request       0.82      0.09      0.16       311\n",
      "\n",
      "           avg / total       0.95      0.96      0.94      6554\n",
      "\n",
      "                        precision    recall  f1-score   support\n",
      "\n",
      "               related       0.98      1.00      0.99      6419\n",
      "               request       0.71      0.07      0.13       135\n",
      "\n",
      "           avg / total       0.98      0.98      0.97      6554\n",
      "\n",
      "                        precision    recall  f1-score   support\n",
      "\n",
      "               related       0.99      1.00      1.00      6517\n",
      "               request       0.00      0.00      0.00        37\n",
      "\n",
      "           avg / total       0.99      0.99      0.99      6554\n",
      "\n",
      "                        precision    recall  f1-score   support\n",
      "\n",
      "               related       0.99      1.00      1.00      6494\n",
      "               request       0.00      0.00      0.00        60\n",
      "\n",
      "           avg / total       0.98      0.99      0.99      6554\n",
      "\n",
      "                        precision    recall  f1-score   support\n",
      "\n",
      "               related       1.00      1.00      1.00      6526\n",
      "               request       0.00      0.00      0.00        28\n",
      "\n",
      "           avg / total       0.99      1.00      0.99      6554\n",
      "\n",
      "                        precision    recall  f1-score   support\n",
      "\n",
      "               related       0.99      1.00      1.00      6497\n",
      "               request       0.00      0.00      0.00        57\n",
      "\n",
      "           avg / total       0.98      0.99      0.99      6554\n",
      "\n",
      "                        precision    recall  f1-score   support\n",
      "\n",
      "               related       0.96      1.00      0.98      6274\n",
      "               request       0.00      0.00      0.00       280\n",
      "\n",
      "           avg / total       0.92      0.96      0.94      6554\n",
      "\n",
      "                        precision    recall  f1-score   support\n",
      "\n",
      "               related       0.86      0.96      0.91      4802\n",
      "               request       0.84      0.56      0.67      1752\n",
      "\n",
      "           avg / total       0.85      0.85      0.84      6554\n",
      "\n",
      "                        precision    recall  f1-score   support\n",
      "\n",
      "               related       0.94      1.00      0.97      6042\n",
      "               request       0.90      0.22      0.36       512\n",
      "\n",
      "           avg / total       0.93      0.94      0.92      6554\n",
      "\n",
      "                        precision    recall  f1-score   support\n",
      "\n",
      "               related       0.94      0.99      0.96      5946\n",
      "               request       0.77      0.36      0.49       608\n",
      "\n",
      "           avg / total       0.92      0.93      0.92      6554\n",
      "\n",
      "                        precision    recall  f1-score   support\n",
      "\n",
      "               related       0.99      1.00      1.00      6489\n",
      "               request       0.75      0.05      0.09        65\n",
      "\n",
      "           avg / total       0.99      0.99      0.99      6554\n",
      "\n",
      "                        precision    recall  f1-score   support\n",
      "\n",
      "               related       0.97      0.99      0.98      5973\n",
      "               request       0.89      0.65      0.75       581\n",
      "\n",
      "           avg / total       0.96      0.96      0.96      6554\n",
      "\n",
      "                        precision    recall  f1-score   support\n",
      "\n",
      "               related       0.98      1.00      0.99      6441\n",
      "               request       0.78      0.06      0.11       113\n",
      "\n",
      "           avg / total       0.98      0.98      0.98      6554\n",
      "\n",
      "                        precision    recall  f1-score   support\n",
      "\n",
      "               related       0.95      1.00      0.97      6228\n",
      "               request       0.52      0.05      0.08       326\n",
      "\n",
      "           avg / total       0.93      0.95      0.93      6554\n",
      "\n",
      "                        precision    recall  f1-score   support\n",
      "\n",
      "               related       0.86      0.98      0.91      5270\n",
      "               request       0.79      0.32      0.46      1284\n",
      "\n",
      "           avg / total       0.84      0.85      0.82      6554\n",
      "\n"
     ]
    },
    {
     "name": "stderr",
     "output_type": "stream",
     "text": [
      "/opt/conda/lib/python3.6/site-packages/sklearn/metrics/classification.py:1428: UserWarning: labels size, 3, does not match size of target_names, 36\n",
      "  .format(len(labels), len(target_names))\n",
      "/opt/conda/lib/python3.6/site-packages/sklearn/metrics/classification.py:1428: UserWarning: labels size, 2, does not match size of target_names, 36\n",
      "  .format(len(labels), len(target_names))\n",
      "/opt/conda/lib/python3.6/site-packages/sklearn/metrics/classification.py:1135: UndefinedMetricWarning: Precision and F-score are ill-defined and being set to 0.0 in labels with no predicted samples.\n",
      "  'precision', 'predicted', average, warn_for)\n",
      "/opt/conda/lib/python3.6/site-packages/sklearn/metrics/classification.py:1428: UserWarning: labels size, 1, does not match size of target_names, 36\n",
      "  .format(len(labels), len(target_names))\n"
     ]
    }
   ],
   "source": [
    "df_pred = pd.DataFrame(y_pred)\n",
    "df_pred.columns=y_test.columns\n",
    "\n",
    "for column in y_test:\n",
    "    print(classification_report(y_test[column],df_pred[column],target_names=y_test.columns))"
   ]
  },
  {
   "cell_type": "code",
   "execution_count": 9,
   "metadata": {},
   "outputs": [
    {
     "data": {
      "text/plain": [
       "{'memory': None,\n",
       " 'steps': [('vect',\n",
       "   CountVectorizer(analyzer='word', binary=False, decode_error='strict',\n",
       "           dtype=<class 'numpy.int64'>, encoding='utf-8', input='content',\n",
       "           lowercase=True, max_df=1.0, max_features=None, min_df=1,\n",
       "           ngram_range=(1, 1), preprocessor=None, stop_words=None,\n",
       "           strip_accents=None, token_pattern='(?u)\\\\b\\\\w\\\\w+\\\\b',\n",
       "           tokenizer=<function tokenize at 0x7f65f5b59f28>, vocabulary=None)),\n",
       "  ('tfidf',\n",
       "   TfidfTransformer(norm='l2', smooth_idf=True, sublinear_tf=False, use_idf=True)),\n",
       "  ('clf',\n",
       "   MultiOutputClassifier(estimator=RandomForestClassifier(bootstrap=True, class_weight=None, criterion='gini',\n",
       "               max_depth=None, max_features='auto', max_leaf_nodes=None,\n",
       "               min_impurity_decrease=0.0, min_impurity_split=None,\n",
       "               min_samples_leaf=1, min_samples_split=2,\n",
       "               min_weight_fraction_leaf=0.0, n_estimators=10, n_jobs=1,\n",
       "               oob_score=False, random_state=None, verbose=0,\n",
       "               warm_start=False),\n",
       "              n_jobs=1))],\n",
       " 'vect': CountVectorizer(analyzer='word', binary=False, decode_error='strict',\n",
       "         dtype=<class 'numpy.int64'>, encoding='utf-8', input='content',\n",
       "         lowercase=True, max_df=1.0, max_features=None, min_df=1,\n",
       "         ngram_range=(1, 1), preprocessor=None, stop_words=None,\n",
       "         strip_accents=None, token_pattern='(?u)\\\\b\\\\w\\\\w+\\\\b',\n",
       "         tokenizer=<function tokenize at 0x7f65f5b59f28>, vocabulary=None),\n",
       " 'tfidf': TfidfTransformer(norm='l2', smooth_idf=True, sublinear_tf=False, use_idf=True),\n",
       " 'clf': MultiOutputClassifier(estimator=RandomForestClassifier(bootstrap=True, class_weight=None, criterion='gini',\n",
       "             max_depth=None, max_features='auto', max_leaf_nodes=None,\n",
       "             min_impurity_decrease=0.0, min_impurity_split=None,\n",
       "             min_samples_leaf=1, min_samples_split=2,\n",
       "             min_weight_fraction_leaf=0.0, n_estimators=10, n_jobs=1,\n",
       "             oob_score=False, random_state=None, verbose=0,\n",
       "             warm_start=False),\n",
       "            n_jobs=1),\n",
       " 'vect__analyzer': 'word',\n",
       " 'vect__binary': False,\n",
       " 'vect__decode_error': 'strict',\n",
       " 'vect__dtype': numpy.int64,\n",
       " 'vect__encoding': 'utf-8',\n",
       " 'vect__input': 'content',\n",
       " 'vect__lowercase': True,\n",
       " 'vect__max_df': 1.0,\n",
       " 'vect__max_features': None,\n",
       " 'vect__min_df': 1,\n",
       " 'vect__ngram_range': (1, 1),\n",
       " 'vect__preprocessor': None,\n",
       " 'vect__stop_words': None,\n",
       " 'vect__strip_accents': None,\n",
       " 'vect__token_pattern': '(?u)\\\\b\\\\w\\\\w+\\\\b',\n",
       " 'vect__tokenizer': <function __main__.tokenize(text)>,\n",
       " 'vect__vocabulary': None,\n",
       " 'tfidf__norm': 'l2',\n",
       " 'tfidf__smooth_idf': True,\n",
       " 'tfidf__sublinear_tf': False,\n",
       " 'tfidf__use_idf': True,\n",
       " 'clf__estimator__bootstrap': True,\n",
       " 'clf__estimator__class_weight': None,\n",
       " 'clf__estimator__criterion': 'gini',\n",
       " 'clf__estimator__max_depth': None,\n",
       " 'clf__estimator__max_features': 'auto',\n",
       " 'clf__estimator__max_leaf_nodes': None,\n",
       " 'clf__estimator__min_impurity_decrease': 0.0,\n",
       " 'clf__estimator__min_impurity_split': None,\n",
       " 'clf__estimator__min_samples_leaf': 1,\n",
       " 'clf__estimator__min_samples_split': 2,\n",
       " 'clf__estimator__min_weight_fraction_leaf': 0.0,\n",
       " 'clf__estimator__n_estimators': 10,\n",
       " 'clf__estimator__n_jobs': 1,\n",
       " 'clf__estimator__oob_score': False,\n",
       " 'clf__estimator__random_state': None,\n",
       " 'clf__estimator__verbose': 0,\n",
       " 'clf__estimator__warm_start': False,\n",
       " 'clf__estimator': RandomForestClassifier(bootstrap=True, class_weight=None, criterion='gini',\n",
       "             max_depth=None, max_features='auto', max_leaf_nodes=None,\n",
       "             min_impurity_decrease=0.0, min_impurity_split=None,\n",
       "             min_samples_leaf=1, min_samples_split=2,\n",
       "             min_weight_fraction_leaf=0.0, n_estimators=10, n_jobs=1,\n",
       "             oob_score=False, random_state=None, verbose=0,\n",
       "             warm_start=False),\n",
       " 'clf__n_jobs': 1}"
      ]
     },
     "execution_count": 9,
     "metadata": {},
     "output_type": "execute_result"
    }
   ],
   "source": [
    "pipeline.get_params()"
   ]
  },
  {
   "cell_type": "markdown",
   "metadata": {},
   "source": [
    "### 6. Improve your model\n",
    "Use grid search to find better parameters. "
   ]
  },
  {
   "cell_type": "code",
   "execution_count": 51,
   "metadata": {},
   "outputs": [],
   "source": [
    "parameters = {\n",
    "#      'vect__ngram_range': ((1,1),(1,2)),\n",
    "     'vect__max_df': (0.5, 1.0),\n",
    "#      'vect__max_features': (None, 5000, 10000),\n",
    "     'tfidf__use_idf': (True,False),\n",
    "#      'clf__estimator__max_depth': (5,None),\n",
    "#      'clf__estimator__min_impurity_decrease': (0.0,0.3),\n",
    "     'clf__estimator__n_estimators': [10,20]\n",
    "}\n",
    "\n",
    "cv = GridSearchCV(pipeline, param_grid=parameters)"
   ]
  },
  {
   "cell_type": "markdown",
   "metadata": {},
   "source": [
    "### 7. Test your model\n",
    "Show the accuracy, precision, and recall of the tuned model.  \n",
    "\n",
    "Since this project focuses on code quality, process, and  pipelines, there is no minimum performance metric needed to pass. However, make sure to fine tune your models for accuracy, precision and recall to make your project stand out - especially for your portfolio!"
   ]
  },
  {
   "cell_type": "code",
   "execution_count": null,
   "metadata": {},
   "outputs": [],
   "source": [
    "cv.fit(X_train, y_train)\n",
    "y_pred = cv.predict(X_test)"
   ]
  },
  {
   "cell_type": "code",
   "execution_count": null,
   "metadata": {},
   "outputs": [],
   "source": [
    "df_pred = pd.DataFrame(y_pred)\n",
    "df_pred.columns=y_test.columns\n",
    "\n",
    "for column in y_test:\n",
    "    print(classification_report(y_test[column],df_pred[column],target_names=y_test.columns))"
   ]
  },
  {
   "cell_type": "markdown",
   "metadata": {},
   "source": [
    "### 8. Try improving your model further. Here are a few ideas:\n",
    "* try other machine learning algorithms\n",
    "* add other features besides the TF-IDF"
   ]
  },
  {
   "cell_type": "code",
   "execution_count": null,
   "metadata": {},
   "outputs": [],
   "source": [
    "# Use Naive Bayes instead of RandomForest\n",
    "# \n",
    "pipeline = Pipeline([\n",
    "    ('vect', CountVectorizer(tokenizer=tokenize)),\n",
    "    ('tfidf', TfidfTransformer()),\n",
    "    ('clf', MultiOutputClassifier(RandomForestClassifier()))\n",
    "])"
   ]
  },
  {
   "cell_type": "markdown",
   "metadata": {},
   "source": [
    "### 9. Export your model as a pickle file"
   ]
  },
  {
   "cell_type": "code",
   "execution_count": null,
   "metadata": {},
   "outputs": [],
   "source": []
  },
  {
   "cell_type": "markdown",
   "metadata": {},
   "source": [
    "### 10. Use this notebook to complete `train.py`\n",
    "Use the template file attached in the Resources folder to write a script that runs the steps above to create a database and export a model based on a new dataset specified by the user."
   ]
  },
  {
   "cell_type": "code",
   "execution_count": null,
   "metadata": {},
   "outputs": [],
   "source": []
  }
 ],
 "metadata": {
  "kernelspec": {
   "display_name": "Python 3",
   "language": "python",
   "name": "python3"
  },
  "language_info": {
   "codemirror_mode": {
    "name": "ipython",
    "version": 3
   },
   "file_extension": ".py",
   "mimetype": "text/x-python",
   "name": "python",
   "nbconvert_exporter": "python",
   "pygments_lexer": "ipython3",
   "version": "3.6.3"
  }
 },
 "nbformat": 4,
 "nbformat_minor": 2
}
